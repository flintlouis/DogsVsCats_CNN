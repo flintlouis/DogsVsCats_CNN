{
 "cells": [
  {
   "cell_type": "code",
   "execution_count": 1,
   "metadata": {},
   "outputs": [],
   "source": [
    "import tensorflow as tf\n",
    "from tensorflow.keras.models import Sequential\n",
    "from tensorflow.keras.layers import Dense, Dropout, Activation, Flatten, Conv2D, MaxPooling2D\n",
    "import pickle\n",
    "import numpy as np\n",
    "\n",
    "PICKLE_DIR = 'pickled_DogsVCats/'\n",
    "\n",
    "X = pickle.load(open(PICKLE_DIR + 'X.pickle', 'rb'))\n",
    "y = pickle.load(open(PICKLE_DIR + 'y.pickle', 'rb'))\n",
    "\n",
    "X = X / 255.0\n",
    "y = np.array(y)"
   ]
  },
  {
   "cell_type": "code",
   "execution_count": 2,
   "metadata": {},
   "outputs": [],
   "source": [
    "def create_model(activation='sigmoid', loss='categorical_crossentropy', output_size=None):\n",
    "    model = Sequential()\n",
    "\n",
    "    model.add(Conv2D(64,(3,3),activation='relu', input_shape=X.shape[1:]))\n",
    "    model.add(MaxPooling2D(pool_size=(2,2)))\n",
    "\n",
    "    model.add(Conv2D(64,(3,3),activation='relu'))\n",
    "    model.add(MaxPooling2D(pool_size=(2,2)))\n",
    "\n",
    "    model.add(Flatten())\n",
    "    model.add(Dense(64, activation='relu'))\n",
    "\n",
    "    model.add(Dense(output_size, activation=activation))\n",
    "\n",
    "    model.compile(loss=loss,\n",
    "                 optimizer='Adam',\n",
    "                 metrics=['accuracy'])\n",
    "    return model"
   ]
  },
  {
   "cell_type": "code",
   "execution_count": 3,
   "metadata": {},
   "outputs": [
    {
     "name": "stdout",
     "output_type": "stream",
     "text": [
      "Train on 22451 samples, validate on 2495 samples\n",
      "Epoch 1/3\n",
      "22451/22451 [==============================] - 61s 3ms/sample - loss: 0.6219 - accuracy: 0.6413 - val_loss: 0.5871 - val_accuracy: 0.6790\n",
      "Epoch 2/3\n",
      "22451/22451 [==============================] - 56s 2ms/sample - loss: 0.5028 - accuracy: 0.7540 - val_loss: 0.4954 - val_accuracy: 0.7587\n",
      "Epoch 3/3\n",
      "22451/22451 [==============================] - 55s 2ms/sample - loss: 0.4552 - accuracy: 0.7867 - val_loss: 0.4594 - val_accuracy: 0.7824\n"
     ]
    },
    {
     "data": {
      "text/plain": [
       "<tensorflow.python.keras.callbacks.History at 0x7ff12022d850>"
      ]
     },
     "execution_count": 3,
     "metadata": {},
     "output_type": "execute_result"
    }
   ],
   "source": [
    "model = create_model(loss='binary_crossentropy', output_size=1)\n",
    "\n",
    "model.fit(X, y, batch_size=32, epochs=3, validation_split=.1)"
   ]
  },
  {
   "cell_type": "code",
   "execution_count": 4,
   "metadata": {},
   "outputs": [
    {
     "data": {
      "text/plain": [
       "(24946, 2)"
      ]
     },
     "execution_count": 4,
     "metadata": {},
     "output_type": "execute_result"
    }
   ],
   "source": [
    "y2 = tf.keras.utils.to_categorical(y, 2)\n",
    "y2.shape"
   ]
  },
  {
   "cell_type": "code",
   "execution_count": 5,
   "metadata": {},
   "outputs": [
    {
     "name": "stdout",
     "output_type": "stream",
     "text": [
      "Train on 22451 samples, validate on 2495 samples\n",
      "Epoch 1/3\n",
      "22451/22451 [==============================] - 62s 3ms/sample - loss: 0.6286 - accuracy: 0.6362 - val_loss: 0.6021 - val_accuracy: 0.6806\n",
      "Epoch 2/3\n",
      "22451/22451 [==============================] - 66s 3ms/sample - loss: 0.5174 - accuracy: 0.7469 - val_loss: 0.5037 - val_accuracy: 0.7523\n",
      "Epoch 3/3\n",
      "22451/22451 [==============================] - 59s 3ms/sample - loss: 0.4604 - accuracy: 0.7812 - val_loss: 0.4770 - val_accuracy: 0.7655\n"
     ]
    },
    {
     "data": {
      "text/plain": [
       "<tensorflow.python.keras.callbacks.History at 0x7ff0a9744d50>"
      ]
     },
     "execution_count": 5,
     "metadata": {},
     "output_type": "execute_result"
    }
   ],
   "source": [
    "model = create_model(activation='softmax', loss='binary_crossentropy', output_size=2)\n",
    "\n",
    "model.fit(X, y2, batch_size=32, epochs=3, validation_split=.1)"
   ]
  },
  {
   "cell_type": "code",
   "execution_count": 6,
   "metadata": {},
   "outputs": [
    {
     "name": "stdout",
     "output_type": "stream",
     "text": [
      "Train on 22451 samples, validate on 2495 samples\n",
      "Epoch 1/3\n",
      "22451/22451 [==============================] - 64s 3ms/sample - loss: 0.6058 - accuracy: 0.6650 - val_loss: 0.5188 - val_accuracy: 0.7479\n",
      "Epoch 2/3\n",
      "22451/22451 [==============================] - 67s 3ms/sample - loss: 0.4927 - accuracy: 0.7606 - val_loss: 0.5022 - val_accuracy: 0.7631\n",
      "Epoch 3/3\n",
      "22451/22451 [==============================] - 54s 2ms/sample - loss: 0.4482 - accuracy: 0.7897 - val_loss: 0.4759 - val_accuracy: 0.7739\n"
     ]
    },
    {
     "data": {
      "text/plain": [
       "<tensorflow.python.keras.callbacks.History at 0x7ff0a8a15990>"
      ]
     },
     "execution_count": 6,
     "metadata": {},
     "output_type": "execute_result"
    }
   ],
   "source": [
    "model = create_model(activation='softmax', output_size=2)\n",
    "\n",
    "model.fit(X, y2, batch_size=32, epochs=3, validation_split=.1)"
   ]
  },
  {
   "cell_type": "code",
   "execution_count": null,
   "metadata": {},
   "outputs": [],
   "source": []
  }
 ],
 "metadata": {
  "kernelspec": {
   "display_name": "Python 3",
   "language": "python",
   "name": "python3"
  },
  "language_info": {
   "codemirror_mode": {
    "name": "ipython",
    "version": 3
   },
   "file_extension": ".py",
   "mimetype": "text/x-python",
   "name": "python",
   "nbconvert_exporter": "python",
   "pygments_lexer": "ipython3",
   "version": "3.7.6"
  }
 },
 "nbformat": 4,
 "nbformat_minor": 4
}
