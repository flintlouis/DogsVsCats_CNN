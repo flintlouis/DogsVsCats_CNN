{
 "cells": [
  {
   "cell_type": "code",
   "execution_count": 1,
   "metadata": {},
   "outputs": [],
   "source": [
    "import tensorflow as tf\n",
    "from tensorflow.keras.models import Sequential\n",
    "from tensorflow.keras.layers import Dense, Dropout, Activation, Flatten, Conv2D, MaxPooling2D\n",
    "import pickle\n",
    "import numpy as np\n",
    "\n",
    "PICKLE_DIR = 'pickled_DogsVCats/'\n",
    "\n",
    "X = pickle.load(open(PICKLE_DIR + 'X.pickle', 'rb'))\n",
    "y = pickle.load(open(PICKLE_DIR + 'y.pickle', 'rb'))\n",
    "\n",
    "X = X / 255.0\n",
    "y = np.array(y)"
   ]
  },
  {
   "cell_type": "code",
   "execution_count": 2,
   "metadata": {},
   "outputs": [],
   "source": [
    "def create_model():\n",
    "    model = Sequential()\n",
    "\n",
    "    model.add(Conv2D(64,(3,3),activation='relu', input_shape=X.shape[1:]))\n",
    "    model.add(MaxPooling2D(pool_size=(2,2)))\n",
    "\n",
    "    for i in range(3):\n",
    "        model.add(Conv2D(64,(3,3),activation='relu'))\n",
    "        model.add(MaxPooling2D(pool_size=(2,2)))\n",
    "\n",
    "    model.add(Flatten())\n",
    "    model.add(Dense(1, activation='sigmoid'))\n",
    "\n",
    "    model.compile(loss='binary_crossentropy',\n",
    "                 optimizer='Adam',\n",
    "                 metrics=['accuracy'])\n",
    "    return model"
   ]
  },
  {
   "cell_type": "code",
   "execution_count": 3,
   "metadata": {},
   "outputs": [
    {
     "name": "stdout",
     "output_type": "stream",
     "text": [
      "Train on 17462 samples, validate on 7484 samples\n",
      "Epoch 1/7\n",
      "17462/17462 [==============================] - 66s 4ms/sample - loss: 0.6535 - accuracy: 0.6097 - val_loss: 0.5907 - val_accuracy: 0.6972\n",
      "Epoch 2/7\n",
      "17462/17462 [==============================] - 64s 4ms/sample - loss: 0.5662 - accuracy: 0.7089 - val_loss: 0.5211 - val_accuracy: 0.7497\n",
      "Epoch 3/7\n",
      "17462/17462 [==============================] - 69s 4ms/sample - loss: 0.4840 - accuracy: 0.7689 - val_loss: 0.4954 - val_accuracy: 0.7682\n",
      "Epoch 4/7\n",
      "17462/17462 [==============================] - 71s 4ms/sample - loss: 0.4331 - accuracy: 0.8000 - val_loss: 0.4262 - val_accuracy: 0.8036\n",
      "Epoch 5/7\n",
      "17462/17462 [==============================] - 76s 4ms/sample - loss: 0.3889 - accuracy: 0.8210 - val_loss: 0.4003 - val_accuracy: 0.8163\n",
      "Epoch 6/7\n",
      "17462/17462 [==============================] - 88s 5ms/sample - loss: 0.3484 - accuracy: 0.8446 - val_loss: 0.4186 - val_accuracy: 0.8204\n",
      "Epoch 7/7\n",
      "17462/17462 [==============================] - 72s 4ms/sample - loss: 0.3135 - accuracy: 0.8643 - val_loss: 0.3663 - val_accuracy: 0.8391\n"
     ]
    },
    {
     "data": {
      "text/plain": [
       "<tensorflow.python.keras.callbacks.History at 0x7f2e84fd87d0>"
      ]
     },
     "execution_count": 3,
     "metadata": {},
     "output_type": "execute_result"
    }
   ],
   "source": [
    "model = create_model()\n",
    "model.fit(X, y,\n",
    "         batch_size=32,\n",
    "         epochs=7,\n",
    "         validation_split=.3)"
   ]
  },
  {
   "cell_type": "code",
   "execution_count": 4,
   "metadata": {},
   "outputs": [
    {
     "name": "stderr",
     "output_type": "stream",
     "text": [
      "WARNING: Logging before flag parsing goes to stderr.\n",
      "W0413 11:57:28.485791 139839507629888 deprecation.py:506] From /home/hignett/anaconda3/envs/machinelearning/lib/python3.7/site-packages/tensorflow_core/python/ops/resource_variable_ops.py:1786: calling BaseResourceVariable.__init__ (from tensorflow.python.ops.resource_variable_ops) with constraint is deprecated and will be removed in a future version.\n",
      "Instructions for updating:\n",
      "If using Keras pass *_constraint arguments to layers.\n"
     ]
    }
   ],
   "source": [
    "model.save('64x3-CNN.model')"
   ]
  },
  {
   "cell_type": "code",
   "execution_count": 4,
   "metadata": {},
   "outputs": [
    {
     "name": "stdout",
     "output_type": "stream",
     "text": [
      "Dog\n"
     ]
    }
   ],
   "source": [
    "# Load model\n",
    "\n",
    "# import tensorflow as tf\n",
    "# import cv2\n",
    "# import matplotlib.pyplot as plt\n",
    "# %matplotlib inline\n",
    "\n",
    "# CATEGORIES = ['Dog','Cat']\n",
    "\n",
    "# def prepare(filepath):\n",
    "    \n",
    "#     IMG_SIZE = 70\n",
    "#     img_array = cv2.imread(filepath, cv2.IMREAD_GRAYSCALE)\n",
    "#     new_array = cv2.resize(img_array, (IMG_SIZE,IMG_SIZE)) / 255.0\n",
    "#     return new_array.reshape(-1,IMG_SIZE,IMG_SIZE,1)\n",
    "\n",
    "# model = tf.keras.models.load_model('64x3-CNN.model')\n",
    "# prediction = model.predict([prepare('dog.jpg')])\n",
    "# print(CATEGORIES[int(prediction.max())])"
   ]
  },
  {
   "cell_type": "code",
   "execution_count": null,
   "metadata": {},
   "outputs": [],
   "source": []
  }
 ],
 "metadata": {
  "kernelspec": {
   "display_name": "Python 3",
   "language": "python",
   "name": "python3"
  },
  "language_info": {
   "codemirror_mode": {
    "name": "ipython",
    "version": 3
   },
   "file_extension": ".py",
   "mimetype": "text/x-python",
   "name": "python",
   "nbconvert_exporter": "python",
   "pygments_lexer": "ipython3",
   "version": "3.7.6"
  }
 },
 "nbformat": 4,
 "nbformat_minor": 4
}
