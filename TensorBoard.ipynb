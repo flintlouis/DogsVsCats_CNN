{
 "cells": [
  {
   "cell_type": "code",
   "execution_count": 1,
   "metadata": {},
   "outputs": [],
   "source": [
    "import tensorflow as tf\n",
    "from tensorflow.keras.models import Sequential\n",
    "from tensorflow.keras.layers import Dense, Dropout, Activation, Flatten, Conv2D, MaxPooling2D\n",
    "from tensorflow.keras.callbacks import TensorBoard\n",
    "import pickle\n",
    "import numpy as np\n",
    "import time\n",
    "\n",
    "NAME = f\"Cats-vs-dogs-cnn-64x2-{int(time.time())}\"\n",
    "\n",
    "tensorboard = TensorBoard(log_dir=f'logs/{NAME}')\n",
    "\n",
    "PICKLE_DIR = 'pickled_DogsVCats/'\n",
    "\n",
    "X = pickle.load(open(PICKLE_DIR + 'X.pickle', 'rb'))\n",
    "y = pickle.load(open(PICKLE_DIR + 'y.pickle', 'rb'))\n",
    "\n",
    "X = X / 255.0\n",
    "y = np.array(y)"
   ]
  },
  {
   "cell_type": "code",
   "execution_count": 2,
   "metadata": {},
   "outputs": [
    {
     "name": "stdout",
     "output_type": "stream",
     "text": [
      "Cats-vs-dogs-cnn-64x2-1586514041\n"
     ]
    }
   ],
   "source": [
    "print(NAME)"
   ]
  },
  {
   "cell_type": "code",
   "execution_count": 3,
   "metadata": {},
   "outputs": [],
   "source": [
    "def create_model():\n",
    "    model = Sequential()\n",
    "\n",
    "    model.add(Conv2D(64,(3,3),activation='relu', input_shape=X.shape[1:]))\n",
    "    model.add(MaxPooling2D(pool_size=(2,2)))\n",
    "\n",
    "    model.add(Conv2D(64,(3,3),activation='relu'))\n",
    "    model.add(MaxPooling2D(pool_size=(2,2)))\n",
    "\n",
    "    model.add(Flatten())\n",
    "\n",
    "    model.add(Dense(1, activation='sigmoid'))\n",
    "\n",
    "    model.compile(loss='binary_crossentropy',\n",
    "                 optimizer='Adam',\n",
    "                 metrics=['accuracy'])\n",
    "    return model"
   ]
  },
  {
   "cell_type": "code",
   "execution_count": 4,
   "metadata": {},
   "outputs": [
    {
     "name": "stdout",
     "output_type": "stream",
     "text": [
      "Train on 17462 samples, validate on 7484 samples\n",
      "Epoch 1/10\n",
      "17462/17462 [==============================] - 44s 2ms/sample - loss: 0.6441 - accuracy: 0.6230 - val_loss: 0.5950 - val_accuracy: 0.6861\n",
      "Epoch 2/10\n",
      "17462/17462 [==============================] - 43s 2ms/sample - loss: 0.5506 - accuracy: 0.7211 - val_loss: 0.5385 - val_accuracy: 0.7310\n",
      "Epoch 3/10\n",
      "17462/17462 [==============================] - 43s 2ms/sample - loss: 0.5062 - accuracy: 0.7551 - val_loss: 0.5269 - val_accuracy: 0.7350\n",
      "Epoch 4/10\n",
      "17462/17462 [==============================] - 44s 3ms/sample - loss: 0.4840 - accuracy: 0.7677 - val_loss: 0.4945 - val_accuracy: 0.7594\n",
      "Epoch 5/10\n",
      "17462/17462 [==============================] - 46s 3ms/sample - loss: 0.4593 - accuracy: 0.7844 - val_loss: 0.5064 - val_accuracy: 0.7569\n",
      "Epoch 6/10\n",
      "17462/17462 [==============================] - 51s 3ms/sample - loss: 0.4463 - accuracy: 0.7897 - val_loss: 0.4795 - val_accuracy: 0.7716\n",
      "Epoch 7/10\n",
      "17462/17462 [==============================] - 49s 3ms/sample - loss: 0.4221 - accuracy: 0.8067 - val_loss: 0.4777 - val_accuracy: 0.7707\n",
      "Epoch 8/10\n",
      "17462/17462 [==============================] - 48s 3ms/sample - loss: 0.4123 - accuracy: 0.8128 - val_loss: 0.4909 - val_accuracy: 0.7647\n",
      "Epoch 9/10\n",
      "17462/17462 [==============================] - 49s 3ms/sample - loss: 0.3962 - accuracy: 0.8196 - val_loss: 0.4861 - val_accuracy: 0.7667\n",
      "Epoch 10/10\n",
      "17462/17462 [==============================] - 50s 3ms/sample - loss: 0.3825 - accuracy: 0.8269 - val_loss: 0.4617 - val_accuracy: 0.7865\n"
     ]
    },
    {
     "data": {
      "text/plain": [
       "<tensorflow.python.keras.callbacks.History at 0x7f65dbe88d50>"
      ]
     },
     "execution_count": 4,
     "metadata": {},
     "output_type": "execute_result"
    }
   ],
   "source": [
    "model = create_model()\n",
    "\n",
    "model.fit(X,y, batch_size=32, epochs=10, validation_split=.3, callbacks=[tensorboard])"
   ]
  },
  {
   "cell_type": "code",
   "execution_count": 5,
   "metadata": {},
   "outputs": [],
   "source": [
    "# %load_ext tensorboard\n",
    "# %tensorboard --logdir logs/"
   ]
  },
  {
   "cell_type": "code",
   "execution_count": null,
   "metadata": {},
   "outputs": [],
   "source": []
  }
 ],
 "metadata": {
  "kernelspec": {
   "display_name": "Python 3",
   "language": "python",
   "name": "python3"
  },
  "language_info": {
   "codemirror_mode": {
    "name": "ipython",
    "version": 3
   },
   "file_extension": ".py",
   "mimetype": "text/x-python",
   "name": "python",
   "nbconvert_exporter": "python",
   "pygments_lexer": "ipython3",
   "version": "3.7.6"
  }
 },
 "nbformat": 4,
 "nbformat_minor": 4
}
