{
 "cells": [
  {
   "cell_type": "code",
   "execution_count": 1,
   "metadata": {},
   "outputs": [],
   "source": [
    "# import tensorflow as tf\n",
    "# from tensorflow.keras.models import Sequential\n",
    "# from tensorflow.keras.layers import Dense, Dropout, Activation, Flatten, Conv2D, MaxPooling2D\n",
    "# import pickle\n",
    "# import numpy as np\n",
    "\n",
    "# PICKLE_DIR = 'pickled_DogsVCats/'\n",
    "\n",
    "# X = pickle.load(open(PICKLE_DIR + 'X.pickle', 'rb'))\n",
    "# y = pickle.load(open(PICKLE_DIR + 'y.pickle', 'rb'))\n",
    "\n",
    "# X = X / 255.0\n",
    "# y = np.array(y)"
   ]
  },
  {
   "cell_type": "code",
   "execution_count": 3,
   "metadata": {},
   "outputs": [],
   "source": [
    "# def create_model():\n",
    "#     model = Sequential()\n",
    "\n",
    "#     model.add(Conv2D(64,(3,3),activation='relu', input_shape=X.shape[1:]))\n",
    "#     model.add(MaxPooling2D(pool_size=(2,2)))\n",
    "\n",
    "#     for i in range(3):\n",
    "#         model.add(Conv2D(64,(3,3),activation='relu'))\n",
    "#         model.add(MaxPooling2D(pool_size=(2,2)))\n",
    "\n",
    "#     model.add(Flatten())\n",
    "#     model.add(Dense(1, activation='sigmoid'))\n",
    "\n",
    "#     model.compile(loss='binary_crossentropy',\n",
    "#                  optimizer='Adam',\n",
    "#                  metrics=['accuracy'])\n",
    "#     return model"
   ]
  },
  {
   "cell_type": "code",
   "execution_count": 5,
   "metadata": {},
   "outputs": [
    {
     "name": "stdout",
     "output_type": "stream",
     "text": [
      "Train on 17462 samples, validate on 7484 samples\n",
      "Epoch 1/7\n",
      "17462/17462 [==============================] - 54s 3ms/sample - loss: 0.6765 - accuracy: 0.5614 - val_loss: 0.6900 - val_accuracy: 0.5728\n",
      "Epoch 2/7\n",
      "17462/17462 [==============================] - 52s 3ms/sample - loss: 0.6037 - accuracy: 0.6751 - val_loss: 0.5584 - val_accuracy: 0.7034\n",
      "Epoch 3/7\n",
      "17462/17462 [==============================] - 46s 3ms/sample - loss: 0.5305 - accuracy: 0.7376 - val_loss: 0.5044 - val_accuracy: 0.7505\n",
      "Epoch 4/7\n",
      "17462/17462 [==============================] - 50s 3ms/sample - loss: 0.4830 - accuracy: 0.7690 - val_loss: 0.4817 - val_accuracy: 0.7615\n",
      "Epoch 5/7\n",
      "17462/17462 [==============================] - 51s 3ms/sample - loss: 0.4409 - accuracy: 0.7933 - val_loss: 0.4465 - val_accuracy: 0.7920\n",
      "Epoch 6/7\n",
      "17462/17462 [==============================] - 50s 3ms/sample - loss: 0.3999 - accuracy: 0.8177 - val_loss: 0.4856 - val_accuracy: 0.7724\n",
      "Epoch 7/7\n",
      "17462/17462 [==============================] - 49s 3ms/sample - loss: 0.3722 - accuracy: 0.8331 - val_loss: 0.4081 - val_accuracy: 0.8117\n"
     ]
    },
    {
     "data": {
      "text/plain": [
       "<tensorflow.python.keras.callbacks.History at 0x7f27e11ca5d0>"
      ]
     },
     "execution_count": 5,
     "metadata": {},
     "output_type": "execute_result"
    }
   ],
   "source": [
    "# model = create_model()\n",
    "# model.fit(X, y,\n",
    "#          batch_size=32,\n",
    "#          epochs=7,\n",
    "#          validation_split=.3)"
   ]
  },
  {
   "cell_type": "code",
   "execution_count": 6,
   "metadata": {},
   "outputs": [
    {
     "name": "stderr",
     "output_type": "stream",
     "text": [
      "WARNING: Logging before flag parsing goes to stderr.\n",
      "W0413 11:41:22.433290 139810764904256 deprecation.py:506] From /home/hignett/anaconda3/envs/machinelearning/lib/python3.7/site-packages/tensorflow_core/python/ops/resource_variable_ops.py:1786: calling BaseResourceVariable.__init__ (from tensorflow.python.ops.resource_variable_ops) with constraint is deprecated and will be removed in a future version.\n",
      "Instructions for updating:\n",
      "If using Keras pass *_constraint arguments to layers.\n"
     ]
    }
   ],
   "source": [
    "# model.save('64x3-CNN.model')"
   ]
  },
  {
   "cell_type": "code",
   "execution_count": null,
   "metadata": {},
   "outputs": [],
   "source": []
  }
 ],
 "metadata": {
  "kernelspec": {
   "display_name": "Python 3",
   "language": "python",
   "name": "python3"
  },
  "language_info": {
   "codemirror_mode": {
    "name": "ipython",
    "version": 3
   },
   "file_extension": ".py",
   "mimetype": "text/x-python",
   "name": "python",
   "nbconvert_exporter": "python",
   "pygments_lexer": "ipython3",
   "version": "3.7.6"
  }
 },
 "nbformat": 4,
 "nbformat_minor": 4
}
